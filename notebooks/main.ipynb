{
 "cells": [
  {
   "cell_type": "code",
   "execution_count": 1,
   "metadata": {},
   "outputs": [],
   "source": [
    "from typing import Dict, Any\n",
    "import asyncio\n",
    "from gpt_researcher import GPTResearcher"
   ]
  },
  {
   "cell_type": "code",
   "execution_count": 3,
   "metadata": {},
   "outputs": [],
   "source": [
    "from langchain_aws import BedrockEmbeddings\n",
    "from langchain_qdrant import QdrantVectorStore\n",
    "from qdrant_client import QdrantClient"
   ]
  },
  {
   "cell_type": "code",
   "execution_count": 4,
   "metadata": {},
   "outputs": [],
   "source": [
    "class CustomLogsHandler:\n",
    "    \"\"\"A custom Logs handler class to handle JSON data.\"\"\"\n",
    "    def __init__(self):\n",
    "        self.logs = []  # Initialize logs to store data\n",
    "\n",
    "    async def send_json(self, data: Dict[str, Any]) -> None:\n",
    "        \"\"\"Send JSON data and log it.\"\"\"\n",
    "        self.logs.append(data)  # Append data to logs\n",
    "        # print(f\"My custom Log: {data}\")  # For demonstration, print the log"
   ]
  },
  {
   "cell_type": "code",
   "execution_count": 27,
   "metadata": {},
   "outputs": [],
   "source": [
    "query = \"why is Nvidia stock going up?\"\n",
    "report_type = \"research_report\"  # Type of report to generate\n",
    "report_source = \"online\"  # Could specify source like 'online', 'books', etc.\n",
    "tone = \"informative\"  # Tone of the report ('informative', 'casual', etc.)\n",
    "config_path = None  # Path to a config file, if needed\n",
    "\n",
    "# Initialize researcher with a custom WebSocket\n",
    "custom_logs_handler = CustomLogsHandler()\n",
    "\n",
    "# researcher = GPTResearcher(\n",
    "#     query=query,\n",
    "#     report_type=report_type,\n",
    "#     report_source=report_source,\n",
    "#     tone=tone,\n",
    "#     config_path=config_path,\n",
    "#     websocket=custom_logs_handler\n",
    "# )\n",
    "\n",
    "\n",
    "client = QdrantClient(\n",
    "    url=\"https://ft-vdb.epiphaiplatform.com:443\",\n",
    "    api_key=\"Y3NMMGK3Okzt7rzho88jhmzPZl5Mhhnd98i39bLG4OJPGRtNV7pH8sOlVNtveGce\",\n",
    ")\n",
    "vector_store = QdrantVectorStore(\n",
    "    client=client,\n",
    "    content_payload_key=\"content\",\n",
    "    # metadata_payload_key=\"document_key\",\n",
    "    collection_name=\"epiphai_collection\",\n",
    "    embedding=BedrockEmbeddings(region_name=\"us-east-1\", model_id=\"amazon.titan-embed-text-v2:0\"),\n",
    ")"
   ]
  },
  {
   "cell_type": "code",
   "execution_count": null,
   "metadata": {},
   "outputs": [],
   "source": [
    "from qdrant_client import models\n",
    "\n",
    "file_filters = \"<file1>,<file2>\".split(\",\")\n",
    "\n",
    "vector_store_filters = models.Filter(\n",
    "    [\n",
    "        models.FieldCondition(\n",
    "            key=\"document_key\",\n",
    "            match=models.MatchText(text=file)\n",
    "        ),\n",
    "    ] for file in file_filters\n",
    ")"
   ]
  },
  {
   "cell_type": "code",
   "execution_count": null,
   "metadata": {},
   "outputs": [
    {
     "name": "stderr",
     "output_type": "stream",
     "text": [
      "INFO:     [19:15:25] 🔍 Starting the research task for 'why is Nvidia stock going up?'...\n",
      "INFO:     [19:15:25] 💰 Finance Agent\n",
      "INFO:     [19:15:25] 🌐 Browsing the web to learn more about the task: why is Nvidia stock going up?...\n",
      "INFO:     [19:15:26] 🤔 Planning the research strategy and subtasks...\n",
      "INFO:     [19:15:35] 🗂️  I will conduct my research based on the following queries: ['Reasons for Nvidia stock surge June 2025 AI demand earnings export restrictions', 'How generative AI and data-center revenue are driving Nvidia stock growth in 2025', \"Role of Nvidia's market share and competitive advantages in its stock performance June 2025\", 'why is Nvidia stock going up?']...\n",
      "INFO:     [19:15:35] \n",
      "🔍 Running research for 'Reasons for Nvidia stock surge June 2025 AI demand earnings export restrictions'...\n",
      "INFO:     [19:15:35]  Getting relevant content based on query: Reasons for Nvidia stock surge June 2025 AI demand earnings export restrictions...\n",
      "INFO:     [19:15:35] \n",
      "🔍 Running research for 'How generative AI and data-center revenue are driving Nvidia stock growth in 2025'...\n",
      "INFO:     [19:15:35]  Getting relevant content based on query: How generative AI and data-center revenue are driving Nvidia stock growth in 2025...\n",
      "INFO:     [19:15:35] \n",
      "🔍 Running research for 'Role of Nvidia's market share and competitive advantages in its stock performance June 2025'...\n",
      "INFO:     [19:15:35]  Getting relevant content based on query: Role of Nvidia's market share and competitive advantages in its stock performance June 2025...\n",
      "INFO:     [19:15:35] \n",
      "🔍 Running research for 'why is Nvidia stock going up?'...\n",
      "INFO:     [19:15:35]  Getting relevant content based on query: why is Nvidia stock going up?...\n",
      "INFO:     [19:15:35] Finalized research step.\n",
      "💸 Total Research Costs: $0.015715\n"
     ]
    }
   ],
   "source": [
    "researcher = GPTResearcher(\n",
    "    query,\n",
    "    report_type,\n",
    "    \"markdown\",\n",
    "    \"langchain_vectorstore\",\n",
    "    tone,\n",
    "    vector_store=vector_store,\n",
    "    fvector_store_filters=vector_store_filters\n",
    "    config_path=config_path,\n",
    "    websocket=custom_logs_handler,\n",
    "    verbose=True\n",
    ")\n",
    "\n",
    "research = await researcher.conduct_research()  # Conduct the research"
   ]
  },
  {
   "cell_type": "code",
   "execution_count": null,
   "metadata": {},
   "outputs": [],
   "source": []
  },
  {
   "cell_type": "code",
   "execution_count": 30,
   "metadata": {},
   "outputs": [
    {
     "name": "stderr",
     "output_type": "stream",
     "text": [
      "INFO:     [19:15:48] ✍️ Writing report for 'why is Nvidia stock going up?'...\n",
      "INFO:     [19:16:44] 📝 Report written for 'why is Nvidia stock going up?'\n"
     ]
    }
   ],
   "source": [
    "report = await researcher.write_report()  # Write the research report"
   ]
  },
  {
   "cell_type": "code",
   "execution_count": null,
   "metadata": {},
   "outputs": [],
   "source": []
  },
  {
   "cell_type": "code",
   "execution_count": 6,
   "metadata": {},
   "outputs": [],
   "source": [
    "# custom_logs_handler.logs"
   ]
  },
  {
   "cell_type": "code",
   "execution_count": null,
   "metadata": {},
   "outputs": [],
   "source": []
  }
 ],
 "metadata": {
  "kernelspec": {
   "display_name": "base",
   "language": "python",
   "name": "python3"
  },
  "language_info": {
   "codemirror_mode": {
    "name": "ipython",
    "version": 3
   },
   "file_extension": ".py",
   "mimetype": "text/x-python",
   "name": "python",
   "nbconvert_exporter": "python",
   "pygments_lexer": "ipython3",
   "version": "3.12.2"
  }
 },
 "nbformat": 4,
 "nbformat_minor": 2
}
